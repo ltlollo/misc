{
 "metadata": {
  "name": "",
  "signature": "sha256:baf92948ba1f3f0920de67a8c174b8a27aff5adb600064bbd13b5941e1aaab97"
 },
 "nbformat": 3,
 "nbformat_minor": 0,
 "worksheets": [
  {
   "cells": [
    {
     "cell_type": "code",
     "collapsed": false,
     "input": [
      "import matplotlib.pyplot as plt"
     ],
     "language": "python",
     "metadata": {},
     "outputs": [],
     "prompt_number": 1
    },
    {
     "cell_type": "code",
     "collapsed": false,
     "input": [
      "from numpy import pi, exp, tan, arange, vectorize, cos, sqrt, sin"
     ],
     "language": "python",
     "metadata": {},
     "outputs": [],
     "prompt_number": 2
    },
    {
     "cell_type": "code",
     "collapsed": false,
     "input": [
      "from numpy import power as pow"
     ],
     "language": "python",
     "metadata": {},
     "outputs": [],
     "prompt_number": 3
    },
    {
     "cell_type": "markdown",
     "metadata": {},
     "source": [
      "$ f(x, x_{0}, \\rho) = e^{-\\left(\\left(\\tan\\left((x-\\frac{d}{2})\\frac{\\pi}{d}\\right)+\\frac{d}{2}-x_{0}\\right)\\rho\\right)^{2}}  x \\epsilon \\left[0, d\\right]$"
     ]
    },
    {
     "cell_type": "code",
     "collapsed": false,
     "input": [
      "dl, sigma, dt = 4.0, 0.1, 0.01"
     ],
     "language": "python",
     "metadata": {},
     "outputs": [],
     "prompt_number": 4
    },
    {
     "cell_type": "code",
     "collapsed": false,
     "input": [
      "x = arange(0, dl+dt, dt)"
     ],
     "language": "python",
     "metadata": {},
     "outputs": [],
     "prompt_number": 5
    },
    {
     "cell_type": "code",
     "collapsed": false,
     "input": [
      "def hgauss(x, event, cvar):\n",
      "    var = (1+2*pow(sin(pi*event/dl), 2))*cvar\n",
      "    J = var*pi/(dl*pow(sin(pi*x/dl), 2))\n",
      "    # mul gauss with the jacobian of the transformation, so that it's area stays the same\n",
      "    xh = tan((x-dl/2)*pi/dl) + dl/2\n",
      "    return J*exp(-pow((xh-event)*var, 2))"
     ],
     "language": "python",
     "metadata": {},
     "outputs": [],
     "prompt_number": 6
    },
    {
     "cell_type": "code",
     "collapsed": false,
     "input": [
      "vhg = vectorize(hgauss)"
     ],
     "language": "python",
     "metadata": {},
     "outputs": [],
     "prompt_number": 7
    },
    {
     "cell_type": "code",
     "collapsed": false,
     "input": [
      "for i in arange(0, dl+0.5, 0.5):\n",
      "    plt.plot(x, vhg(x, i, 1))"
     ],
     "language": "python",
     "metadata": {},
     "outputs": [
      {
       "output_type": "stream",
       "stream": "stderr",
       "text": [
        "-c:3: RuntimeWarning: divide by zero encountered in double_scalars\n",
        "-c:6: RuntimeWarning: invalid value encountered in double_scalars\n"
       ]
      }
     ],
     "prompt_number": 8
    }
   ],
   "metadata": {}
  }
 ]
}