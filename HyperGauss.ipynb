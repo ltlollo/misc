{
 "metadata": {
  "name": "",
  "signature": "sha256:9d4c9095233273e014dd75435fe06ef9aa2599960062ba642157c2c92aee4292"
 },
 "nbformat": 3,
 "nbformat_minor": 0,
 "worksheets": [
  {
   "cells": [
    {
     "cell_type": "code",
     "collapsed": false,
     "input": [
      "from matplotlib.pyplot import plot"
     ],
     "language": "python",
     "metadata": {},
     "outputs": [],
     "prompt_number": 1
    },
    {
     "cell_type": "code",
     "collapsed": false,
     "input": [
      "from numpy import pi, exp, tan, arange, vectorize, cos, sqrt, sin, abs"
     ],
     "language": "python",
     "metadata": {},
     "outputs": [],
     "prompt_number": 2
    },
    {
     "cell_type": "code",
     "collapsed": false,
     "input": [
      "from numpy import power as pow"
     ],
     "language": "python",
     "metadata": {},
     "outputs": [],
     "prompt_number": 3
    },
    {
     "cell_type": "markdown",
     "metadata": {},
     "source": [
      "$ f(x, x_{0}, \\rho) = e^{-\\left(\\left(\\tan\\left((x-\\frac{d}{2})\\frac{\\pi}{d}\\right)+\\frac{d}{2}-x_{0}\\right)\\rho\\right)^{2}}  x \\epsilon \\left[0, d\\right]$"
     ]
    },
    {
     "cell_type": "code",
     "collapsed": false,
     "input": [
      "def hgauss_simple(x, event, var):\n",
      "    \"\"\"\n",
      "    I keep here the original idea with the simple implementation, so that if i want to /simplify/ the formula using trig\n",
      "    equivalences, optimize it or experiment with it, i'll do it in another place, retaining the original idea here as a reference.\n",
      "    \n",
      "    This is an experimentation with event modeling. In a deadline [0, dl] one can have multiple events, so that Events(t) has\n",
      "    sum(Ni*dirac(t-ti)), whrere ti is the time when some Ni events happened.\n",
      "    \n",
      "    One can then interpret a single event dirac as a probability density with variance->inf, and loosen up that requirement on the\n",
      "    Events(t) to get the total prob density, keeping in mind to normalize the area by sum(Ni), total number of single events foreach\n",
      "    event prob distribution\n",
      "    \n",
      "    One problem with this is that the tails of the single distributions are not confined in the deadline, so i decided to project\n",
      "    the distribution on an hyperplane. Doing so the area of the distr changes, but one thing i learned is that i dont have to\n",
      "    normalize by the integral of the new distr, i just scale back the transformation using its jacobian preserving the original\n",
      "    area.\n",
      "    \"\"\"\n",
      "    J = pi/(dl*pow(sin(pi*x/dl), 2))\n",
      "    xh = tan((x-dl/2.0)*pi/dl) + dl/2.0\n",
      "    # mul gauss with the jacobian of the transformation, so that it's area stays the same\n",
      "    return var*J*exp(-pow((xh-event)*var, 2))"
     ],
     "language": "python",
     "metadata": {},
     "outputs": [],
     "prompt_number": 4
    },
    {
     "cell_type": "code",
     "collapsed": false,
     "input": [
      "dl, sigma, dt = 5.0, 0.1, 0.01"
     ],
     "language": "python",
     "metadata": {},
     "outputs": [],
     "prompt_number": 5
    },
    {
     "cell_type": "code",
     "collapsed": false,
     "input": [
      "x = arange(0, dl+dt, dt)"
     ],
     "language": "python",
     "metadata": {},
     "outputs": [],
     "prompt_number": 6
    },
    {
     "cell_type": "code",
     "collapsed": false,
     "input": [
      "def hgauss_fst(x, event, cvar):\n",
      "    # first attempt to normalize variation coeff\n",
      "    var = (1+2*pow(sin(pi*event/dl), 2))*cvar\n",
      "    J = var*pi/(dl*pow(sin(pi*x/dl), 2))\n",
      "    xh = -1.0/tan(x*pi/dl) + dl/2.0\n",
      "    return J*exp(-pow((xh-event)*var, 2))"
     ],
     "language": "python",
     "metadata": {},
     "outputs": [],
     "prompt_number": 7
    },
    {
     "cell_type": "code",
     "collapsed": false,
     "input": [
      "def hgauss_snd(x, event, var):\n",
      "    # second attempt, useless but interesting\n",
      "    inverse_J = var*dl*pow(sin(pi*x/dl), 2)/pi\n",
      "    xh = tan((x-dl/2)*pi/dl) + dl/2\n",
      "    return var*exp(-pow((xh-event)*inverse_J, 2))"
     ],
     "language": "python",
     "metadata": {},
     "outputs": [],
     "prompt_number": 8
    },
    {
     "cell_type": "code",
     "collapsed": false,
     "input": [
      "def hgauss_norm(x, event, cvar):\n",
      "    # last attempt to normalize variation coeff\n",
      "    if x == 0 or x == dl or event == cvar: return 0.0\n",
      "    var = dl/abs(1.0/tan(pi*(event-cvar)/dl)-1.0/tan(pi*(event+cvar)/dl))\n",
      "    J = var*pi/(dl*pow(sin(pi*x/dl), 2))\n",
      "    xh = -1.0/tan(x*pi/dl) + dl/2.0\n",
      "    return J*exp(-pow((xh-event)*var, 2))"
     ],
     "language": "python",
     "metadata": {},
     "outputs": [],
     "prompt_number": 9
    },
    {
     "cell_type": "code",
     "collapsed": false,
     "input": [
      "f = vectorize(hgauss_norm)"
     ],
     "language": "python",
     "metadata": {},
     "outputs": [],
     "prompt_number": 10
    },
    {
     "cell_type": "code",
     "collapsed": false,
     "input": [
      "for event in arange(0, dl+0.5, 0.5):\n",
      "    plot(x, f(x, event, 0.3))"
     ],
     "language": "python",
     "metadata": {},
     "outputs": [],
     "prompt_number": 11
    }
   ],
   "metadata": {}
  }
 ]
}