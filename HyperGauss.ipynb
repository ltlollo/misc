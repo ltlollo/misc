{
 "metadata": {
  "name": "",
  "signature": "sha256:ab66daf64f62a3bacceb8acd38bbd3123c40d30e186b8a14dbbd17011842091a"
 },
 "nbformat": 3,
 "nbformat_minor": 0,
 "worksheets": [
  {
   "cells": [
    {
     "cell_type": "code",
     "collapsed": false,
     "input": [
      "import matplotlib.pyplot as plt"
     ],
     "language": "python",
     "metadata": {},
     "outputs": [],
     "prompt_number": 1
    },
    {
     "cell_type": "code",
     "collapsed": false,
     "input": [
      "from numpy import pi, exp, tan, arange, vectorize, cos, sqrt"
     ],
     "language": "python",
     "metadata": {},
     "outputs": [],
     "prompt_number": 2
    },
    {
     "cell_type": "code",
     "collapsed": false,
     "input": [
      "from numpy import power as pow"
     ],
     "language": "python",
     "metadata": {},
     "outputs": [],
     "prompt_number": 3
    },
    {
     "cell_type": "markdown",
     "metadata": {},
     "source": [
      "$ f(x, x_{0}, \\rho) = e^{-\\left(\\left(\\tan\\left(\\frac{\\pi}{2dl}(2x-d^{2})\\right)+\\frac{d}{2}-x_{0}\\right)\\rho\\right)^{2}} $"
     ]
    },
    {
     "cell_type": "code",
     "collapsed": false,
     "input": [
      "dl, sigma, dt = 5.0, 0.1, 0.01"
     ],
     "language": "python",
     "metadata": {},
     "outputs": [],
     "prompt_number": 4
    },
    {
     "cell_type": "code",
     "collapsed": false,
     "input": [
      "x = arange(0, dl+dt, dt)"
     ],
     "language": "python",
     "metadata": {},
     "outputs": [],
     "prompt_number": 5
    },
    {
     "cell_type": "code",
     "collapsed": false,
     "input": [
      "def hgauss(x, event, var):\n",
      "    J = pi/(dl*pow(cos(pi/(2*dl)*(2*x-dl*dl)), 2))\n",
      "    # mul gauss with the jacobian of the transformation, so that it's area stays the same\n",
      "    xh = tan(pi/(2*dl)*(2*x-pow(dl, 2))) + dl/2\n",
      "    return var*J*exp(-pow((xh-event)*var, 2))"
     ],
     "language": "python",
     "metadata": {},
     "outputs": [],
     "prompt_number": 6
    },
    {
     "cell_type": "code",
     "collapsed": false,
     "input": [
      "vhg = vectorize(hgauss)"
     ],
     "language": "python",
     "metadata": {},
     "outputs": [],
     "prompt_number": 7
    },
    {
     "cell_type": "code",
     "collapsed": false,
     "input": [
      "for i in arange(0, dl+0.5, 0.5):\n",
      "    plt.plot(x, vhg(x, i, 3))"
     ],
     "language": "python",
     "metadata": {},
     "outputs": [],
     "prompt_number": 8
    }
   ],
   "metadata": {}
  }
 ]
}